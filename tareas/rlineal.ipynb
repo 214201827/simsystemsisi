{
 "cells": [
  {
   "cell_type": "code",
   "execution_count": null,
   "metadata": {
    "vscode": {
     "languageId": "plaintext"
    }
   },
   "outputs": [],
   "source": [
    "# Importación de librerías necesarias\n",
    "\n",
    "import pandas as pd\n",
    "import matplotlib.pyplot as mp\n",
    "from sklearn import linear_model\n",
    "\n",
    "# Cargar datos\n",
    "\n",
    "data = {'Edad': [25, 30, 35, 40, 45],\n",
    "        'Salario': [3000, 3500, 4000, 4500, 5000]}\n",
    "\n",
    "df = pd.DataFrame(data)\n"
   ]
  },
  {
   "cell_type": "code",
   "execution_count": null,
   "metadata": {
    "vscode": {
     "languageId": "plaintext"
    }
   },
   "outputs": [],
   "source": [
    "# Prueba de carga de datos\n",
    "\n",
    "print(df)"
   ]
  },
  {
   "cell_type": "code",
   "execution_count": null,
   "metadata": {
    "vscode": {
     "languageId": "plaintext"
    }
   },
   "outputs": [],
   "source": [
    "# Carga de series y prueba de carga\n",
    "\n",
    "serie_x = df[[\"Edad\"]]\n",
    "serie_y = df[[\"Salario\"]]\n",
    "\n",
    "#print(serie_x)\n",
    "#print(serie_y)\n",
    "\n",
    "mp.scatter(serie_x, serie_y)\n",
    "\n",
    "# Modificadores\n",
    "\n",
    "mp.xlabel(\"Edad\")\n"
   ]
  },
  {
   "cell_type": "code",
   "execution_count": null,
   "metadata": {
    "vscode": {
     "languageId": "plaintext"
    }
   },
   "outputs": [],
   "source": [
    "model = linear_model.LinearRegression()\n",
    "\n",
    "model.fit(serie_x, serie_y)"
   ]
  }
 ],
 "metadata": {
  "language_info": {
   "name": "python"
  }
 },
 "nbformat": 4,
 "nbformat_minor": 2
}
